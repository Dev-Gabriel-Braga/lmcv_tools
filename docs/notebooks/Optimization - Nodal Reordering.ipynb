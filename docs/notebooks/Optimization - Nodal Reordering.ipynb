{
 "cells": [
  {
   "cell_type": "markdown",
   "metadata": {},
   "source": [
    "# Libraries"
   ]
  },
  {
   "cell_type": "code",
   "execution_count": 1,
   "metadata": {},
   "outputs": [],
   "source": [
    "import matplotlib.pyplot as plt\n",
    "from scipy.linalg import bandwidth\n",
    "from scipy.sparse import lil_matrix\n",
    "from scipy.sparse.csgraph import reverse_cuthill_mckee as rcm\n",
    "from math import inf, floor"
   ]
  },
  {
   "cell_type": "markdown",
   "metadata": {},
   "source": [
    "# Implementations"
   ]
  },
  {
   "cell_type": "markdown",
   "metadata": {},
   "source": [
    "## Sloan"
   ]
  },
  {
   "cell_type": "code",
   "execution_count": 2,
   "metadata": {},
   "outputs": [],
   "source": [
    "def get_level_structure(node, adjacency_matrix):\n",
    "    # Variáveis Iniciais\n",
    "    level_structure = list()\n",
    "    max_level_length = 0\n",
    "    current_level_nodes = {node}\n",
    "    last_level_nodes = set()\n",
    "    next_level_nodes = set()\n",
    "\n",
    "    # Calculando Nível Inicial\n",
    "    node_degree = adjacency_matrix[node].count_nonzero()\n",
    "    current_level = {node: node_degree}\n",
    "\n",
    "    # Loop para cada Nível\n",
    "    while True:\n",
    "        # Adicionando Nível Atual à Lista de Níveis\n",
    "        level_structure.append(current_level)\n",
    "        next_level = dict()\n",
    "\n",
    "        # Verificando Adjacência do Nível Atual\n",
    "        for n in current_level:\n",
    "            adjacent_nodes = adjacency_matrix[n].nonzero()[1]\n",
    "            for a in adjacent_nodes:\n",
    "                if (\n",
    "                    (a not in last_level_nodes) and\n",
    "                    (a not in current_level_nodes) and\n",
    "                    (a not in next_level_nodes)\n",
    "                ):\n",
    "                    next_level_nodes.add(a)\n",
    "                    next_level[a] = adjacency_matrix[a].count_nonzero()\n",
    "        \n",
    "        # Verificando se o Nível Atual é Vazio\n",
    "        if len(next_level) == 0:\n",
    "            break\n",
    "\n",
    "        # Verificando se o Comprimento do Nível é o Maior\n",
    "        if len(next_level) > max_level_length:\n",
    "            max_level_length = len(next_level)\n",
    "        \n",
    "        # Intercambiando Níveis\n",
    "        current_level = next_level\n",
    "        last_level_nodes = current_level_nodes\n",
    "        current_level_nodes = next_level_nodes\n",
    "        next_level_nodes = set()\n",
    "    \n",
    "    return level_structure, max_level_length\n",
    "\n",
    "def get_pseudo_peripheral_node_pair(adjacency_matrix):\n",
    "    # Encontrando Node de Menor Grau como Chute Inicial\n",
    "    n_nodes = adjacency_matrix.shape[0]\n",
    "    pseudo_peripheral_node_1 = -1\n",
    "    pseudo_peripheral_node_2 = -1\n",
    "    min_degree = inf\n",
    "    for node in range(1, n_nodes):\n",
    "        degree = adjacency_matrix[node].count_nonzero()\n",
    "        if degree < min_degree:\n",
    "            min_degree = degree\n",
    "            pseudo_peripheral_node_1 = node\n",
    "\n",
    "    # Construindo Estrutura de Nível do Node Chutado\n",
    "    level_structure, _ = get_level_structure(pseudo_peripheral_node_1, adjacency_matrix)\n",
    "    \n",
    "    # Processo de Seleção (Só termina quando Tivermos um Node Inicial e Outro Final)\n",
    "    while pseudo_peripheral_node_2 == -1:\n",
    "        # Inicializando um Comprimento Mínimo para o Nível de Maior Comprimento\n",
    "        min_level_length = inf\n",
    "\n",
    "        # Ordenando Último Nível pelo Grau\n",
    "        ordered_level = level_structure[-1]\n",
    "        ordered_level = sorted(ordered_level.keys(), key = lambda k: ordered_level[k])\n",
    "\n",
    "        # Avaliando Canditados\n",
    "        level_structure_length = len(level_structure)\n",
    "        n_candidates = floor(len(ordered_level) / 2) + 1\n",
    "        for candidate_node in ordered_level[:n_candidates]:\n",
    "            # Construindo Estrutura de Nível do Node Candidato\n",
    "            candidate_level_structure, candidate_max_level_length = get_level_structure(candidate_node, adjacency_matrix)\n",
    "\n",
    "            # Verificando se Canditado pode Substituir o Node Escolhido Atual\n",
    "            if candidate_max_level_length < min_level_length:\n",
    "                # Avaliando se o Node pode ser Inicial ou Final\n",
    "                if len(candidate_level_structure) > level_structure_length:\n",
    "                    level_structure = candidate_level_structure\n",
    "                    pseudo_peripheral_node_1 = candidate_node\n",
    "                    break\n",
    "                else:\n",
    "                    pseudo_peripheral_node_2 = candidate_node\n",
    "                    min_level_length = candidate_max_level_length\n",
    "\n",
    "    return pseudo_peripheral_node_1, pseudo_peripheral_node_2\n",
    "\n",
    "def reorder_sloan(adjacency_matrix):\n",
    "    # Encontrando Nodes Pseudo-Periféricos Inicial e Final\n",
    "    node_start, node_end = get_pseudo_peripheral_node_pair(adjacency_matrix)\n",
    "    n_nodes = adjacency_matrix.shape[0]\n",
    "    new_order = [0] * n_nodes\n",
    "\n",
    "    # Calculando Lista de Distância para Node Final\n",
    "    level_structure_end, _ = get_level_structure(node_end, adjacency_matrix)\n",
    "    distances_to_end = [0] * n_nodes\n",
    "    degrees = [0] * n_nodes\n",
    "    for level_order, level in enumerate(level_structure_end):\n",
    "        for node in level.keys():\n",
    "            distances_to_end[node] = level_order\n",
    "            degrees[node] = level[node]\n",
    "    del level_structure_end\n",
    "\n",
    "    # Atribuindo Status aos Nodes\n",
    "    # 0 - posactive\n",
    "    # 1 - active\n",
    "    # 2 - preactive\n",
    "    # 3 - inactive\n",
    "    status = [3] * n_nodes\n",
    "\n",
    "    # Atribuindo Prioridades\n",
    "    W1 = 2\n",
    "    W2 = 1\n",
    "    priorities = list()\n",
    "    for i in range(n_nodes):\n",
    "        current_degree = degrees[i] + 1\n",
    "        p = (n_nodes - current_degree) * W1 + distances_to_end[i] * W2\n",
    "        priorities.append(p)\n",
    "    \n",
    "    # Iniciando Pilha de Nodes Elegíveis\n",
    "    eligible_nodes = [node_start]\n",
    "    status[node_start] = 2\n",
    "    \n",
    "    # Processo de Reordenação\n",
    "    order = 0\n",
    "    while len(eligible_nodes) != 0:\n",
    "        # Ordenando Nodes por Prioridade\n",
    "        eligible_nodes = sorted(eligible_nodes, key = lambda k: priorities[k])\n",
    "\n",
    "        # Selecionando Node de Maior Prioridade\n",
    "        highest_priority_node = eligible_nodes.pop()\n",
    "\n",
    "        # Verificando se Node de Maior Prioridade é Pré-ativo\n",
    "        if status[highest_priority_node] == 2:\n",
    "            # Examinando Nodes Adjacentes\n",
    "            adjacent_nodes_level_1 = adjacency_matrix[highest_priority_node].nonzero()[1]\n",
    "            for a1 in adjacent_nodes_level_1:\n",
    "                # Alterando Prioridade\n",
    "                priorities[a1] += W1\n",
    "\n",
    "                # Adicionando Node à Lista de Nodes Elegíveis e Atualizando Status se é Inativo\n",
    "                if status[a1] == 3:\n",
    "                    status[a1] = 2\n",
    "                    eligible_nodes.append(a1)\n",
    "\n",
    "        # Adicionando Nova Ordem ao Node de Maior Prioridade\n",
    "        status[highest_priority_node] = 0\n",
    "        new_order[highest_priority_node] = order\n",
    "        order += 1\n",
    "\n",
    "        # Examinando Nodes Adjacentes\n",
    "        adjacent_nodes_level_1 = adjacency_matrix[highest_priority_node].nonzero()[1]\n",
    "        for a1 in adjacent_nodes_level_1:\n",
    "            # Verificando se Node de Maior Prioridade é Pré-ativo\n",
    "            if status[a1] == 2:\n",
    "                # Alterando Prioridade e Status\n",
    "                priorities[a1] += W1\n",
    "                status[a1] = 1\n",
    "\n",
    "                # Examinando Nodes Adjacentes\n",
    "                adjacent_nodes_level_2 = adjacency_matrix[a1].nonzero()[1]\n",
    "                for a2 in adjacent_nodes_level_2:\n",
    "                    # Verificando se Node de Maior Prioridade é Ativo ou Pré-ativo\n",
    "                    if (status[a2] == 1) or (status[a2] == 2):\n",
    "                        # Alterando Prioridade\n",
    "                        priorities[a2] += W1\n",
    "\n",
    "                    # Verificando se Node de Maior Prioridade é Inativo\n",
    "                    elif status[a2] == 3:\n",
    "                        # Alterando Prioridade, Status e Adicionando à Lista de Nodes Elegíveis\n",
    "                        priorities[a2] += W1\n",
    "                        status[a2] = 2\n",
    "                        eligible_nodes.append(a2)\n",
    "\n",
    "    return new_order"
   ]
  },
  {
   "cell_type": "markdown",
   "metadata": {},
   "source": [
    "## Function Plot Results"
   ]
  },
  {
   "cell_type": "code",
   "execution_count": 3,
   "metadata": {},
   "outputs": [],
   "source": [
    "# Exibindo Matrizes Esparsas\n",
    "def plot_results(matrix_dict, markersize: 0.1):\n",
    "    fig, ax = plt.subplots(1, len(matrix_dict))\n",
    "    params = {\n",
    "    'left': False, \n",
    "    'top': False, \n",
    "    'bottom': False,\n",
    "    'labelleft': False, \n",
    "    'labeltop': False, \n",
    "    }\n",
    "\n",
    "    for i, (algo, matrix) in enumerate(matrix_dict.items()):\n",
    "        bd = bandwidth(matrix.toarray())\n",
    "        title = f'({algo})\\nMBW = {bd[0]}'\n",
    "        ax[i].set_title(title)\n",
    "        ax[i].spy(matrix, markersize=markersize)\n",
    "        ax[i].tick_params(**params)\n",
    "\n",
    "    plt.show()"
   ]
  },
  {
   "cell_type": "markdown",
   "metadata": {},
   "source": [
    "# Matrix Tests"
   ]
  },
  {
   "cell_type": "markdown",
   "metadata": {},
   "source": [
    "## Matrix 1 - Simple Graph"
   ]
  },
  {
   "cell_type": "code",
   "execution_count": 4,
   "metadata": {},
   "outputs": [],
   "source": [
    "matrix_1 = lil_matrix((10, 10))\n",
    "\n",
    "connections = ((0, 2), (2, 6), (6, 5), (5, 7), (7, 0), (7, 8), (7, 9), (8, 3), (3, 9), (8, 4), (4, 1))\n",
    "\n",
    "for i, j in connections:\n",
    "    matrix_1[i, j] = 1\n",
    "    matrix_1[j, i] = 1\n",
    "\n",
    "matrix_1 = matrix_1.tocsr()"
   ]
  },
  {
   "cell_type": "code",
   "execution_count": 5,
   "metadata": {},
   "outputs": [],
   "source": [
    "# Reordenando Matriz - RCM\n",
    "o1_rcm = rcm(matrix_1).tolist()\n",
    "new_m1_rcm = lil_matrix(matrix_1.shape)\n",
    "for i, j in zip(*matrix_1.nonzero()):\n",
    "   i = o1_rcm.index(i)\n",
    "   j = o1_rcm.index(j)\n",
    "   new_m1_rcm[i, j] = True\n",
    "new_m1_rcm = new_m1_rcm.tocsr()\n",
    "\n",
    "# Reordenando Matriz - Sloan\n",
    "o1_sloan = reorder_sloan(matrix_1)\n",
    "new_m1_sloan = lil_matrix(matrix_1.shape)\n",
    "for i, j in zip(*matrix_1.nonzero()):\n",
    "   i = o1_sloan[i]\n",
    "   j = o1_sloan[j]\n",
    "   new_m1_sloan[i, j] = True\n",
    "new_m1_sloan = new_m1_sloan.tocsr()"
   ]
  },
  {
   "cell_type": "code",
   "execution_count": 6,
   "metadata": {},
   "outputs": [
    {
     "data": {
      "image/png": "[encoded data removed]",
      "text/plain": [
       "<Figure size 640x480 with 3 Axes>"
      ]
     },
     "metadata": {},
     "output_type": "display_data"
    }
   ],
   "source": [
    "# Exibindo Matrizes Esparsas\n",
    "matrix_dict = {\n",
    "   'Original': matrix_1,\n",
    "   'RCM': new_m1_rcm,\n",
    "   'Sloan': new_m1_sloan\n",
    "}\n",
    "\n",
    "plot_results(matrix_dict, 4.0)"
   ]
  },
  {
   "cell_type": "markdown",
   "metadata": {},
   "source": [
    "## Matrix 2 - lshp1270"
   ]
  },
  {
   "cell_type": "code",
   "execution_count": 7,
   "metadata": {},
   "outputs": [],
   "source": [
    "# Lendo Dados\n",
    "matrix_file = open('./matrix/lshp1270.mtx', 'r')\n",
    "lines = matrix_file.readlines()\n",
    "matrix_file.close()\n",
    "i_s, j_s = [], []\n",
    "for line in lines[13:]:\n",
    "   i, j, *_ = line.split()\n",
    "   i, j = int(i) - 1, int(j) - 1\n",
    "   i_s.append(i)\n",
    "   j_s.append(j)\n",
    "\n",
    "# Construindo Matriz Esparsa\n",
    "n = len(set(i_s))\n",
    "matrix_2 = lil_matrix((n, n))\n",
    "for i, j in zip(i_s, j_s):\n",
    "   matrix_2[i, j] = 1\n",
    "   matrix_2[j, i] = 1\n",
    "\n",
    "matrix_2 = matrix_2.tocsr()\n",
    "\n",
    "# Liberando Memória\n",
    "del lines\n",
    "del i_s\n",
    "del j_s\n",
    "del matrix_file"
   ]
  },
  {
   "cell_type": "code",
   "execution_count": 8,
   "metadata": {},
   "outputs": [],
   "source": [
    "# Reordenando Matriz - RCM\n",
    "o2_rcm = rcm(matrix_2).tolist()\n",
    "new_m2_rcm = lil_matrix(matrix_2.shape)\n",
    "for i, j in zip(*matrix_2.nonzero()):\n",
    "   i = o2_rcm.index(i)\n",
    "   j = o2_rcm.index(j)\n",
    "   new_m2_rcm[i, j] = True\n",
    "new_m2_rcm = new_m2_rcm.tocsr()\n",
    "\n",
    "# Reordenando Matriz - Sloan\n",
    "o2_sloan = reorder_sloan(matrix_2)\n",
    "new_m2_sloan = lil_matrix(matrix_2.shape)\n",
    "for i, j in zip(*matrix_2.nonzero()):\n",
    "   i = o2_sloan[i]\n",
    "   j = o2_sloan[j]\n",
    "   new_m2_sloan[i, j] = True\n",
    "new_m2_sloan = new_m2_sloan.tocsr()"
   ]
  },
  {
   "cell_type": "code",
   "execution_count": 9,
   "metadata": {},
   "outputs": [
    {
     "data": {
      "image/png": "[encoded data removed]",
      "text/plain": [
       "<Figure size 640x480 with 3 Axes>"
      ]
     },
     "metadata": {},
     "output_type": "display_data"
    }
   ],
   "source": [
    "# Exibindo Matrizes Esparsas\n",
    "matrix_dict = {\n",
    "   'Original': matrix_2,\n",
    "   'RCM': new_m2_rcm,\n",
    "   'Sloan': new_m2_sloan\n",
    "}\n",
    "\n",
    "plot_results(matrix_dict, 0.2)"
   ]
  }
 ],
 "metadata": {
  "kernelspec": {
   "display_name": "Python 3",
   "language": "python",
   "name": "python3"
  },
  "language_info": {
   "codemirror_mode": {
    "name": "ipython",
    "version": 3
   },
   "file_extension": ".py",
   "mimetype": "text/x-python",
   "name": "python",
   "nbconvert_exporter": "python",
   "pygments_lexer": "ipython3",
   "version": "3.10.6"
  },
  "orig_nbformat": 4
 },
 "nbformat": 4,
 "nbformat_minor": 2
}
